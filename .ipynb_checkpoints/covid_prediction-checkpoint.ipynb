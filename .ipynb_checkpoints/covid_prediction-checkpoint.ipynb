{
 "cells": [
  {
   "cell_type": "code",
   "execution_count": 25,
   "metadata": {
    "scrolled": true
   },
   "outputs": [
    {
     "name": "stdout",
     "output_type": "stream",
     "text": [
      "(256, 64) (256, 64) (242, 64)\n"
     ]
    },
    {
     "data": {
      "text/plain": [
       "array([3.464154e+01, 3.187933e+01, 7.476887e-01, 8.999656e+01,\n",
       "       3.035866e+00, 2.744702e+02, 1.381215e+00, 4.920163e+01,\n",
       "       4.113034e+01, 7.409576e+02, 1.906990e+00, 7.737826e+01,\n",
       "       3.174872e+00, 1.073773e+01, 1.223441e+02, 6.647111e+00,\n",
       "       9.586117e+01, 1.066608e+02, 2.204541e+01, 1.058148e+03,\n",
       "       3.354520e+03, 6.619136e+02, 2.267167e+01, 5.196495e+02,\n",
       "       5.978560e+01, 9.001900e+00, 7.450485e+00, 6.297050e+01,\n",
       "       1.364516e+00, 1.590432e+01, 5.770939e+01, 6.450459e+01,\n",
       "       5.079670e+01, 2.382049e+02, 1.352802e+01, 1.918630e+00,\n",
       "       1.299423e+02, 1.040862e+03, 2.477655e-02, 3.370396e+00,\n",
       "       6.522989e-04, 1.317244e+02, 2.070086e-02, 1.021561e+01,\n",
       "       5.757164e-05, 2.613565e+00, 5.169863e+00, 7.987703e+00,\n",
       "       2.263590e+01, 8.628892e+02, 2.531146e+03, 1.224611e+02,\n",
       "       4.080979e+02, 3.368951e+01, 3.252237e+03, 2.813219e+02,\n",
       "       1.618465e+02, 3.217235e+02, 2.531146e+03, 4.416149e+01,\n",
       "       7.512886e+02, 6.382204e+01, 3.990859e+02, 5.011437e+02,\n",
       "       1.965604e+00, 8.558240e+02, 2.239522e+02, 2.790984e+02,\n",
       "       1.059999e+02, 6.382204e+01, 6.300415e+01, 1.038684e+00,\n",
       "       6.106658e+02, 5.901533e+02, 1.719467e+03, 7.644087e+02,\n",
       "       7.960711e+02, 6.133350e+02, 1.151548e+00, 7.294137e-02,\n",
       "       6.934842e+01, 5.019117e+02, 8.738022e+01, 4.845492e+01,\n",
       "       4.845492e+01, 7.516791e+01, 9.314049e+01, 3.075877e+01,\n",
       "       1.749490e+02, 7.685739e+01, 2.052151e+02, 7.907656e+01,\n",
       "       2.916593e+01, 9.910932e-02, 1.497374e+02, 1.400293e+02,\n",
       "       6.669765e+02, 4.460241e+00, 8.054839e+00, 1.982952e+02,\n",
       "       2.616672e+01, 2.119323e+01, 1.209173e+01, 5.113475e+01,\n",
       "       1.407435e+02, 2.206999e+02, 5.511684e+00, 6.638006e-01,\n",
       "       1.450630e+00, 1.068810e+02, 2.485125e+02, 6.299306e+00,\n",
       "       2.886061e+02, 2.496293e+02, 2.496293e+02, 4.011301e+02,\n",
       "       1.874730e+01, 7.241366e+00, 5.535723e+01, 2.242090e+01,\n",
       "       1.217397e+02, 3.700105e+01, 3.892968e+01, 7.313586e+01,\n",
       "       2.386685e+01, 2.557860e-01, 1.199055e+02, 1.133589e+03,\n",
       "       2.228769e+01, 6.909193e+01, 2.000156e-01, 2.350338e+02,\n",
       "       2.163236e+01, 1.409454e+01, 3.660186e+02, 5.487123e+01,\n",
       "       2.725036e+01, 1.391377e+02, 4.148287e+02, 2.714944e+02,\n",
       "       4.787287e+00, 1.276286e+00, 3.142852e+01, 6.168271e+02,\n",
       "       6.093874e+02, 2.255641e+00, 2.196334e+01, 5.810300e+02,\n",
       "       1.413974e+01, 2.506326e+01, 3.996617e+01, 2.611886e+02,\n",
       "       1.671312e+02, 1.245012e+01, 1.875271e+03, 1.614080e+03,\n",
       "       6.619874e-02, 6.647281e+02, 2.603890e+01, 9.691168e+01,\n",
       "       4.785486e+02, 7.728480e-01, 6.056780e+01, 4.219672e+01,\n",
       "       5.304600e-01, 5.379095e+02, 1.279581e+02, 1.947221e+01,\n",
       "       2.496293e+02, 4.720359e+02, 1.518126e+01, 2.047171e+01,\n",
       "       1.000814e+01, 9.503738e+01, 4.885173e+01, 3.783968e+00,\n",
       "       1.762143e+00, 2.745115e+01, 4.496161e+01, 4.784982e+01,\n",
       "       1.492388e+01, 2.343315e+00, 2.060320e+02, 2.060116e+02,\n",
       "       2.601565e+01, 2.512867e+01, 1.074698e+02, 2.415046e-01,\n",
       "       3.557894e+02, 2.609240e+02, 2.801386e+02, 1.245202e+02,\n",
       "       3.983211e+00, 3.162899e+01, 9.892123e+01, 3.625378e+00,\n",
       "       6.232501e+02, 9.192336e+01, 1.152293e+02, 9.943902e+00,\n",
       "       2.439846e+00, 5.131480e+01, 1.257867e+02, 4.002132e+01,\n",
       "       1.173451e+00, 4.195470e+00, 5.791212e+01, 4.977068e+01,\n",
       "       6.810700e+01, 1.117307e+02, 6.318050e+01, 8.613269e+01,\n",
       "       1.916804e+01, 1.525989e+02, 6.259932e+02, 2.851797e+01,\n",
       "       3.742905e+01, 1.058007e+03, 3.614966e+01, 1.556996e+02,\n",
       "       9.239980e+01, 1.122338e+02, 2.744702e+02, 6.279292e+01,\n",
       "       1.757173e+00, 8.279947e+01, 2.097979e+01, 8.590727e-01,\n",
       "       2.891039e+02, 2.978519e+02, 5.068747e+01, 1.749490e+02,\n",
       "       4.011301e+02, 4.927153e+02, 4.624911e+01, 1.011088e+01,\n",
       "       3.005445e+01, 6.619136e+02, 1.749490e+02, 2.283634e+01,\n",
       "       3.432607e-01, 5.494149e+02, 2.046703e+01, 7.543806e-01,\n",
       "       5.236119e+01, 3.526525e-05, 1.449546e-03, 1.594661e+02,\n",
       "       2.052168e+02, 2.496293e+02, 2.188223e+02, 1.110757e+01,\n",
       "       1.749490e+02, 4.515407e+00, 1.906780e+02, 1.239427e+02])"
      ]
     },
     "execution_count": 25,
     "metadata": {},
     "output_type": "execute_result"
    }
   ],
   "source": [
    "# git clone https://github.com/CSSEGISandData/COVID-19.git\n",
    "import numpy as np\n",
    "import pandas as pd\n",
    "import tensorflow as tf\n",
    "import tensorflow_probability as tfp\n",
    "\n",
    "confirmed = pd.read_csv('/media/jahan/solo/COVID-19/csse_covid_19_data/csse_covid_19_time_series/time_series_covid19_confirmed_global.csv')\n",
    "deaths = pd.read_csv('/media/jahan/solo/COVID-19/csse_covid_19_data/csse_covid_19_time_series/time_series_covid19_deaths_global.csv')\n",
    "recovered = pd.read_csv('/media/jahan/solo/COVID-19/csse_covid_19_data/csse_covid_19_time_series/time_series_covid19_recovered_global.csv')\n",
    "c = np.around(confirmed.values[:,[2,3]+list(range(4,66))].astype(np.float32), decimals=4)\n",
    "r = np.around(recovered.values[:,[2,3]+list(range(4,66))].astype(np.float32), decimals=4)\n",
    "d = np.around(deaths.values[:,[2,3]+list(range(4,66))].astype(np.float32), decimals=4)\n",
    "c[:,3:] = c[:,3:] - c[:,2:-1]\n",
    "d[:,3:] = d[:,3:] - d[:,2:-1]\n",
    "r[:,3:] = r[:,3:] - r[:,2:-1]\n",
    "print(c.shape, d.shape, r.shape)\n",
    "rows, cols = c.shape\n",
    "\n",
    "# import population density\n",
    "ascii_grid = np.loadtxt(\"/home/jahan/Downloads/gpw_v4_population_density_rev11_2020_1_deg.asc\", skiprows=6)\n",
    "shape = ascii_grid.shape\n",
    "def closest_density(tup):\n",
    "    loc_lat, loc_long = tup\n",
    "    distance = 10000000000\n",
    "    density = 0\n",
    "    loc_lat = 90 - loc_lat\n",
    "    loc_long = 180 + loc_long\n",
    "    for lat in range(180):\n",
    "        for long in range(360):\n",
    "            dens = ascii_grid[lat,long]\n",
    "            dist = np.linalg.norm(np.array([lat,long])-np.array([loc_lat,loc_long]))\n",
    "            if ((dist < distance) and (dens > 0) and (dens != -9999)):\n",
    "                distance = dist\n",
    "                density = dens\n",
    "    return density     \n",
    "        \n",
    "    \n",
    "tuples = list(zip(c[:,0],c[:,1]))\n",
    "densities = np.array(list(map(closest_density,tuples)))\n",
    "densities"
   ]
  },
  {
   "cell_type": "code",
   "execution_count": 29,
   "metadata": {
    "scrolled": true
   },
   "outputs": [
    {
     "name": "stdout",
     "output_type": "stream",
     "text": [
      "({'inputs': <tf.Tensor: shape=(8, 5, 6), dtype=float32, numpy=\n",
      "array([[[-9.190000e+00, -7.501520e+01,  2.343315e+00,  0.000000e+00,\n",
      "          0.000000e+00,  3.500000e+01],\n",
      "        [-9.190000e+00, -7.501520e+01,  2.343315e+00,  0.000000e+00,\n",
      "          0.000000e+00,  3.600000e+01],\n",
      "        [-9.190000e+00, -7.501520e+01,  2.343315e+00,  0.000000e+00,\n",
      "          0.000000e+00,  3.700000e+01],\n",
      "        [-9.190000e+00, -7.501520e+01,  2.343315e+00,  0.000000e+00,\n",
      "          0.000000e+00,  3.800000e+01],\n",
      "        [-9.190000e+00, -7.501520e+01,  2.343315e+00,  0.000000e+00,\n",
      "          0.000000e+00,  3.900000e+01]],\n",
      "\n",
      "       [[-3.055950e+01,  2.293750e+01,  2.439846e+00,  0.000000e+00,\n",
      "          0.000000e+00,  1.100000e+01],\n",
      "        [-3.055950e+01,  2.293750e+01,  2.439846e+00,  0.000000e+00,\n",
      "          0.000000e+00,  1.200000e+01],\n",
      "        [-3.055950e+01,  2.293750e+01,  2.439846e+00,  0.000000e+00,\n",
      "          0.000000e+00,  1.300000e+01],\n",
      "        [-3.055950e+01,  2.293750e+01,  2.439846e+00,  0.000000e+00,\n",
      "          0.000000e+00,  1.400000e+01],\n",
      "        [-3.055950e+01,  2.293750e+01,  2.439846e+00,  0.000000e+00,\n",
      "          0.000000e+00,  1.500000e+01]],\n",
      "\n",
      "       [[ 3.600000e+01,  1.280000e+02,  6.168271e+02,  1.000000e+00,\n",
      "          0.000000e+00,  3.400000e+01],\n",
      "        [ 3.600000e+01,  1.280000e+02,  6.168271e+02,  0.000000e+00,\n",
      "          0.000000e+00,  3.500000e+01],\n",
      "        [ 3.600000e+01,  1.280000e+02,  6.168271e+02,  7.300000e+01,\n",
      "          1.000000e+00,  3.600000e+01],\n",
      "        [ 3.600000e+01,  1.280000e+02,  6.168271e+02,  1.000000e+02,\n",
      "          1.000000e+00,  3.700000e+01],\n",
      "        [ 3.600000e+01,  1.280000e+02,  6.168271e+02,  2.290000e+02,\n",
      "          0.000000e+00,  3.800000e+01]],\n",
      "\n",
      "       [[ 3.519170e+01,  1.088701e+02,  6.106658e+02,  4.000000e+00,\n",
      "          0.000000e+00,  2.900000e+01],\n",
      "        [ 3.519170e+01,  1.088701e+02,  6.106658e+02,  1.000000e+00,\n",
      "          0.000000e+00,  3.000000e+01],\n",
      "        [ 3.519170e+01,  1.088701e+02,  6.106658e+02,  2.000000e+00,\n",
      "          0.000000e+00,  3.100000e+01],\n",
      "        [ 3.519170e+01,  1.088701e+02,  6.106658e+02,  4.000000e+00,\n",
      "          0.000000e+00,  3.200000e+01],\n",
      "        [ 3.519170e+01,  1.088701e+02,  6.106658e+02,  4.000000e+00,\n",
      "          0.000000e+00,  3.300000e+01]],\n",
      "\n",
      "       [[ 3.120200e+01,  1.214491e+02,  1.719467e+03,  3.000000e+00,\n",
      "          0.000000e+00,  3.000000e+01],\n",
      "        [ 3.120200e+01,  1.214491e+02,  1.719467e+03,  8.000000e+00,\n",
      "          0.000000e+00,  3.100000e+01],\n",
      "        [ 3.120200e+01,  1.214491e+02,  1.719467e+03,  2.000000e+00,\n",
      "          0.000000e+00,  3.200000e+01],\n",
      "        [ 3.120200e+01,  1.214491e+02,  1.719467e+03,  5.000000e+00,\n",
      "          0.000000e+00,  3.300000e+01],\n",
      "        [ 3.120200e+01,  1.214491e+02,  1.719467e+03,  0.000000e+00,\n",
      "          0.000000e+00,  3.400000e+01]],\n",
      "\n",
      "       [[ 4.190290e+01,  1.245340e+01,  1.133589e+03,  0.000000e+00,\n",
      "          0.000000e+00,  3.200000e+01],\n",
      "        [ 4.190290e+01,  1.245340e+01,  1.133589e+03,  0.000000e+00,\n",
      "          0.000000e+00,  3.300000e+01],\n",
      "        [ 4.190290e+01,  1.245340e+01,  1.133589e+03,  0.000000e+00,\n",
      "          0.000000e+00,  3.400000e+01],\n",
      "        [ 4.190290e+01,  1.245340e+01,  1.133589e+03,  0.000000e+00,\n",
      "          0.000000e+00,  3.500000e+01],\n",
      "        [ 4.190290e+01,  1.245340e+01,  1.133589e+03,  0.000000e+00,\n",
      "          0.000000e+00,  3.600000e+01]],\n",
      "\n",
      "       [[ 6.482550e+01, -1.248457e+02,  3.526525e-05,  0.000000e+00,\n",
      "          0.000000e+00,  4.000000e+01],\n",
      "        [ 6.482550e+01, -1.248457e+02,  3.526525e-05,  0.000000e+00,\n",
      "          0.000000e+00,  4.100000e+01],\n",
      "        [ 6.482550e+01, -1.248457e+02,  3.526525e-05,  0.000000e+00,\n",
      "          0.000000e+00,  4.200000e+01],\n",
      "        [ 6.482550e+01, -1.248457e+02,  3.526525e-05,  0.000000e+00,\n",
      "          0.000000e+00,  4.300000e+01],\n",
      "        [ 6.482550e+01, -1.248457e+02,  3.526525e-05,  0.000000e+00,\n",
      "          0.000000e+00,  4.400000e+01]],\n",
      "\n",
      "       [[ 3.930540e+01,  1.173230e+02,  6.133350e+02,  1.000000e+01,\n",
      "          0.000000e+00,  2.200000e+01],\n",
      "        [ 3.930540e+01,  1.173230e+02,  6.133350e+02,  2.000000e+00,\n",
      "          0.000000e+00,  2.300000e+01],\n",
      "        [ 3.930540e+01,  1.173230e+02,  6.133350e+02,  7.000000e+00,\n",
      "          0.000000e+00,  2.400000e+01],\n",
      "        [ 3.930540e+01,  1.173230e+02,  6.133350e+02,  3.000000e+00,\n",
      "          0.000000e+00,  2.500000e+01],\n",
      "        [ 3.930540e+01,  1.173230e+02,  6.133350e+02,  4.000000e+00,\n",
      "          0.000000e+00,  2.600000e+01]]], dtype=float32)>}, {'predictions': <tf.Tensor: shape=(8, 10), dtype=float32, numpy=\n",
      "array([[  0.,   0.,   0.,   0.,   0.,   0.,   0.,   0.,   0.,   0.],\n",
      "       [  0.,   0.,   0.,   0.,   0.,   0.,   0.,   0.,   0.,   0.],\n",
      "       [  1.,   0.,  73., 100., 229., 169., 231., 144., 284., 505.],\n",
      "       [  4.,   1.,   2.,   4.,   4.,   0.,   2.,   3.,   0.,   0.],\n",
      "       [  3.,   8.,   2.,   5.,   0.,   0.,   1.,   0.,   1.,   0.],\n",
      "       [  0.,   0.,   0.,   0.,   0.,   0.,   0.,   0.,   0.,   0.],\n",
      "       [  0.,   0.,   0.,   0.,   0.,   0.,   0.,   0.,   0.,   0.],\n",
      "       [ 10.,   2.,   7.,   3.,   4.,  11.,   6.,   7.,   1.,   2.]],\n",
      "      dtype=float32)>, 'reconstruction': <tf.Tensor: shape=(8, 10), dtype=float32, numpy=\n",
      "array([[  0.,   0.,   0.,   0.,   0.,   0.,   0.,   0.,   0.,   0.],\n",
      "       [  0.,   0.,   0.,   0.,   0.,   0.,   0.,   0.,   0.,   0.],\n",
      "       [  1.,   0.,  73., 100., 229., 169., 231., 144., 284., 505.],\n",
      "       [  4.,   1.,   2.,   4.,   4.,   0.,   2.,   3.,   0.,   0.],\n",
      "       [  3.,   8.,   2.,   5.,   0.,   0.,   1.,   0.,   1.,   0.],\n",
      "       [  0.,   0.,   0.,   0.,   0.,   0.,   0.,   0.,   0.,   0.],\n",
      "       [  0.,   0.,   0.,   0.,   0.,   0.,   0.,   0.,   0.,   0.],\n",
      "       [ 10.,   2.,   7.,   3.,   4.,  11.,   6.,   7.,   1.,   2.]],\n",
      "      dtype=float32)>})\n"
     ]
    }
   ],
   "source": [
    "batch_size = 8\n",
    "test_days = 10\n",
    "features = 6\n",
    "\n",
    "def gen():\n",
    "    window = 5\n",
    "    day =  np.random.randint(window+3,cols-(window+test_days))\n",
    "    row = np.random.randint(rows)\n",
    "    location = np.tile(c[row,:2].reshape((-1,1)), (1,5))\n",
    "    pop_dens = np.tile(densities[row].reshape((-1,1)), (1,5))\n",
    "    infected = c[row,day-window:day].reshape((1,-1))\n",
    "    deaths = d[row,day-window:day].reshape((1,-1))\n",
    "#     recovered = r[row,day-window:day].reshape((1,-1))\n",
    "    predictions = c[row,day-window:day+window]\n",
    "    days = np.arange(day, day+window).reshape((1,-1))\n",
    "#     print(np.concatenate([location, infected, deaths, days],axis=0).T)\n",
    "    yield ({'inputs':np.concatenate([location, pop_dens, infected, deaths, days],axis=0).T}, \n",
    "           {'predictions':predictions, \n",
    "            'reconstruction':predictions})\n",
    "    \n",
    "\n",
    "dataset = tf.data.Dataset.from_generator( \n",
    "     gen,\n",
    "     output_types=({'inputs':tf.float32}, \n",
    "                    {'predictions':tf.float32,\n",
    "                     'reconstruction':tf.float32}), \n",
    "     output_shapes=({'inputs':[None,features]},\n",
    "                    {'predictions':[None],\n",
    "                     'reconstruction':[None]}))\n",
    "\n",
    "dataset = dataset.repeat().padded_batch(batch_size, \n",
    "                padded_shapes=({'inputs':[None,features]},{'predictions':[None], 'reconstruction':[None]}),\n",
    "                padding_values=({'inputs':-1.},{'predictions':-1., 'reconstruction':-1.}))\n",
    "\n",
    "for n in dataset.take(1):\n",
    "    print(n)\n",
    "    \n",
    "dataset = dataset"
   ]
  },
  {
   "cell_type": "code",
   "execution_count": 32,
   "metadata": {},
   "outputs": [],
   "source": [
    "# define custom sampling layer for VAE\n",
    "\n",
    "class Sampling(tf.keras.layers.Layer):\n",
    "    def call(self, inputs):\n",
    "        counts, prob = inputs\n",
    "        dist = tfp.distributions.Binomial(total_count=counts, probs=prob)\n",
    "        return dist.sample(1)[0]\n",
    "\n",
    "def factorial(x):\n",
    "    return tf.exp(tf.math.lgamma(x+1.))\n",
    "\n",
    "import tensorflow.keras.backend as K\n",
    "\n",
    "class Standardise(tf.keras.layers.Layer):\n",
    "    def call(self, inputs):\n",
    "        mean = tf.math.reduce_mean(inputs, axis=1, keepdims=True)\n",
    "        stds = tf.math.reduce_std(inputs, axis=1,  keepdims=True)\n",
    "        return (inputs - mean) / (stds + K.epsilon())\n",
    "\n",
    "def harmonic(x):\n",
    "    max_x = tf.reduce_max(x)\n",
    "    i_inv = tf.cond(max_x < 1., lambda: tf.constant([1.]), lambda: K.cumsum(1./(K.arange(1.,tf.reduce_max(x)))))\n",
    "    indexes = K.cast(tf.clip_by_value(x,1.,tf.reduce_max(x)-1.), dtype=tf.int32) - 1\n",
    "    return tf.gather_nd(i_inv, tf.reshape(indexes, (-1,1)))\n",
    "\n",
    "def last_time_step_loss(Y_true, Y_pred):\n",
    "    alpha = 0.7\n",
    "    n = Y_pred[:,-1,1]\n",
    "    p = Y_pred[:,-1,2]\n",
    "    k = Y_true[:,-1]\n",
    "    dl_dp = (k/p) - ((n-k)/(1-p + K.epsilon()))\n",
    "    Hn = harmonic(n)\n",
    "    Hn_k = harmonic(tf.abs(n-k))\n",
    "    dl_dn = ((Hn - Hn_k) + tf.math.log(1-p + K.epsilon()))\n",
    "    return tf.reduce_sum((1-alpha)*tf.abs(dl_dp) + alpha*tf.abs(dl_dn))\n",
    "\n",
    "def recon_loss(Y_true, Y_pred):\n",
    "    rescaled = Y_true/(tf.reduce_max(Y_true, axis=0) + 0.1)\n",
    "    return tf.keras.losses.MSE(rescaled, tf.reshape(Y_pred, (-1,10)))"
   ]
  },
  {
   "cell_type": "code",
   "execution_count": 33,
   "metadata": {},
   "outputs": [
    {
     "data": {
      "text/latex": [
       "\\[ \\text{From the Binomial Log Likelihood:} \\]\n",
       "\n",
       "\\[\\mathcal{l} = \\ln(\\mathcal{L}(p | n, k)) = \\ln(C) + k\\ln(p) + (n-k)\\ln(1-p)\\]\n",
       "\n",
       "\\[ \\text{Solve for the partial derivatives wrt p and n} \\]\n",
       "\n",
       "\\[\\frac{\\partial \\mathcal{l}}{\\partial p} \n",
       "  = \\frac{k}{p} - \\frac{n-k}{1-p} \\]\n",
       "\n",
       "\\[ \\text{} \\]\n",
       "\n",
       "\\[\\frac{\\partial \\mathcal{l}}{\\partial n} \n",
       "  = \\frac{\\partial \\mathcal{C}}{\\partial n} + \\ln(1-p) \\]\n",
       "\n",
       "\\[ \\text{} \\]\n",
       "\n",
       "\\[\\frac{\\partial \\mathcal{C}}{\\partial n}\n",
       "  = \\mathcal{H}_n - \\mathcal{H}_{n-k} \\]\n",
       "\n",
       "\\[ \\text{} \\]\n",
       "\\[ \\text{Where:} \\]\n",
       "\n",
       "\\[\\mathcal{H}_n = \\sum_{k=1}^{n} \\frac{1}{k} \\]\n"
      ],
      "text/plain": [
       "<IPython.core.display.Latex object>"
      ]
     },
     "metadata": {},
     "output_type": "display_data"
    }
   ],
   "source": [
    "%%latex\n",
    "\\[ \\text{From the Binomial Log Likelihood:} \\]\n",
    "\n",
    "\\[\\mathcal{l} = \\ln(\\mathcal{L}(p | n, k)) = \\ln(C) + k\\ln(p) + (n-k)\\ln(1-p)\\]\n",
    "\n",
    "\\[ \\text{Solve for the partial derivatives wrt p and n} \\]\n",
    "\n",
    "\\[\\frac{\\partial \\mathcal{l}}{\\partial p} \n",
    "  = \\frac{k}{p} - \\frac{n-k}{1-p} \\]\n",
    "\n",
    "\\[ \\text{} \\]\n",
    "\n",
    "\\[\\frac{\\partial \\mathcal{l}}{\\partial n} \n",
    "  = \\frac{\\partial \\mathcal{C}}{\\partial n} + \\ln(1-p) \\]\n",
    "\n",
    "\\[ \\text{} \\]\n",
    "\n",
    "\\[\\frac{\\partial \\mathcal{C}}{\\partial n}\n",
    "  = \\mathcal{H}_n - \\mathcal{H}_{n-k} \\]\n",
    "\n",
    "\\[ \\text{} \\]\n",
    "\\[ \\text{Where:} \\]\n",
    "\n",
    "\\[\\mathcal{H}_n = \\sum_{k=1}^{n} \\frac{1}{k} \\]"
   ]
  },
  {
   "cell_type": "code",
   "execution_count": 98,
   "metadata": {
    "scrolled": true
   },
   "outputs": [
    {
     "name": "stdout",
     "output_type": "stream",
     "text": [
      "tf.Tensor(14.683998, shape=(), dtype=float32)\n"
     ]
    }
   ],
   "source": [
    "for n in dataset.take(1):\n",
    "    output = binomial(n[0]['inputs'])\n",
    "    loss = last_time_step_loss(n[1]['predictions'], output['predictions'])\n",
    "#     loss = recon_loss(n[1]['reconstruction'], output['reconstruction'])\n",
    "    print(loss)"
   ]
  },
  {
   "cell_type": "code",
   "execution_count": 27,
   "metadata": {},
   "outputs": [
    {
     "data": {
      "text/plain": [
       "<tf.Tensor: shape=(2,), dtype=int32, numpy=array([2, 6], dtype=int32)>"
      ]
     },
     "execution_count": 27,
     "metadata": {},
     "output_type": "execute_result"
    }
   ],
   "source": [
    "asd = tf.constant([1,2,3,4,55,6,6,7,7,7])\n",
    "tf.gather_nd(asd, tf.constant([[1],[5]]))"
   ]
  },
  {
   "cell_type": "code",
   "execution_count": 28,
   "metadata": {},
   "outputs": [
    {
     "data": {
      "text/plain": [
       "<tf.Tensor: shape=(2, 1), dtype=float32, numpy=\n",
       "array([[ 1.],\n",
       "       [35.]], dtype=float32)>"
      ]
     },
     "execution_count": 28,
     "metadata": {},
     "output_type": "execute_result"
    }
   ],
   "source": [
    "dist = tfp.distributions.Binomial(total_count=[[10],[50]], probs=[[0.1],[.7]])\n",
    "dist.sample(1)[0]"
   ]
  },
  {
   "cell_type": "code",
   "execution_count": 34,
   "metadata": {
    "scrolled": false
   },
   "outputs": [
    {
     "name": "stdout",
     "output_type": "stream",
     "text": [
      "(None, 10, 1)\n"
     ]
    }
   ],
   "source": [
    "tf.keras.backend.clear_session()\n",
    "# define model and custom training function\n",
    "\n",
    "window = 5\n",
    "hidden = 10\n",
    "features = 6\n",
    "\n",
    "from tensorflow.keras.layers import Input, Dense, Concatenate, LSTM, Masking, TimeDistributed, RepeatVector\n",
    "from tensorflow.keras.models import Model\n",
    "\n",
    "inputs = Input(shape=(window,features), name='inputs')\n",
    "x = LSTM(hidden, name='lstm_1', return_sequences=True)(inputs)\n",
    "x = LSTM(hidden, name='lstm_2', return_sequences=True)(x)\n",
    "preprob = LSTM(hidden, name='lstm_3', return_sequences=True)(x)\n",
    "precounts = LSTM(hidden, name='lstm_4', return_sequences=True, activation='relu')(x)\n",
    "probs = TimeDistributed(Dense(1, activation = tf.keras.activations.sigmoid))(preprob)\n",
    "counts = TimeDistributed(Dense(1, activation = 'relu'))(precounts) + 1. + K.epsilon()\n",
    "\n",
    "recon = LSTM(5, name='recon_1')(x)\n",
    "recon = RepeatVector(10)(recon)\n",
    "recon = LSTM(20, name='recon_2', return_sequences=True)(recon)\n",
    "recon = TimeDistributed(Dense(1, activation = tf.keras.activations.sigmoid), name='reconstruction')(recon)\n",
    "print(recon.shape)\n",
    "\n",
    "output = Sampling(name='preds')([counts, probs])\n",
    "\n",
    "combo = Concatenate(name='predictions')([output, counts, probs])\n",
    "\n",
    "binomial = Model(inputs={'inputs':inputs}, \n",
    "            outputs={'predictions':combo,\n",
    "                     'reconstruction':recon}, name='binomial')\n",
    "\n",
    "binomial.compile(\n",
    "            loss={'predictions':last_time_step_loss,\n",
    "                  'reconstruction': recon_loss}, \n",
    "            optimizer=tf.keras.optimizers.Adam(0.001),\n",
    "            metrics={}\n",
    "            )"
   ]
  },
  {
   "cell_type": "code",
   "execution_count": 35,
   "metadata": {
    "scrolled": false
   },
   "outputs": [
    {
     "name": "stdout",
     "output_type": "stream",
     "text": [
      "Train for 8000 steps\n",
      "Epoch 1/12\n"
     ]
    },
    {
     "name": "stderr",
     "output_type": "stream",
     "text": [
      "/home/jahan/miniconda3/envs/ml_cpu/lib/python3.7/site-packages/tensorflow_core/python/framework/indexed_slices.py:433: UserWarning: Converting sparse IndexedSlices to a dense Tensor of unknown shape. This may consume a large amount of memory.\n",
      "  \"Converting sparse IndexedSlices to a dense Tensor of unknown shape. \"\n",
      "/home/jahan/miniconda3/envs/ml_cpu/lib/python3.7/site-packages/tensorflow_core/python/framework/indexed_slices.py:433: UserWarning: Converting sparse IndexedSlices to a dense Tensor of unknown shape. This may consume a large amount of memory.\n",
      "  \"Converting sparse IndexedSlices to a dense Tensor of unknown shape. \"\n"
     ]
    },
    {
     "name": "stdout",
     "output_type": "stream",
     "text": [
      "8000/8000 [==============================] - 420s 53ms/step - loss: 92.4777 - predictions_loss: 92.4042 - reconstruction_loss: 0.0734\n",
      "Epoch 2/12\n",
      "8000/8000 [==============================] - 408s 51ms/step - loss: 82.2201 - predictions_loss: 82.1536 - reconstruction_loss: 0.0666\n",
      "Epoch 3/12\n",
      "8000/8000 [==============================] - 402s 50ms/step - loss: 85.7625 - predictions_loss: 85.6952 - reconstruction_loss: 0.0672\n",
      "Epoch 4/12\n",
      "8000/8000 [==============================] - 406s 51ms/step - loss: 79.7610 - predictions_loss: 79.6958 - reconstruction_loss: 0.0652\n",
      "Epoch 5/12\n",
      "8000/8000 [==============================] - 403s 50ms/step - loss: 93.3153 - predictions_loss: 93.2561 - reconstruction_loss: 0.0595\n",
      "Epoch 6/12\n",
      "8000/8000 [==============================] - 405s 51ms/step - loss: 81.7870 - predictions_loss: 81.7317 - reconstruction_loss: 0.0554\n",
      "Epoch 7/12\n",
      "8000/8000 [==============================] - 402s 50ms/step - loss: 75.9814 - predictions_loss: 75.9203 - reconstruction_loss: 0.0610\n",
      "Epoch 8/12\n",
      "8000/8000 [==============================] - 407s 51ms/step - loss: 69.4668 - predictions_loss: 69.4056 - reconstruction_loss: 0.0611\n",
      "Epoch 9/12\n",
      "8000/8000 [==============================] - 407s 51ms/step - loss: 76.3816 - predictions_loss: 76.3253 - reconstruction_loss: 0.0561\n",
      "Epoch 10/12\n",
      "8000/8000 [==============================] - 408s 51ms/step - loss: 91.9121 - predictions_loss: 91.8525 - reconstruction_loss: 0.0596\n",
      "Epoch 11/12\n",
      "8000/8000 [==============================] - 407s 51ms/step - loss: 81.5364 - predictions_loss: 81.4767 - reconstruction_loss: 0.0594\n",
      "Epoch 12/12\n",
      "8000/8000 [==============================] - 415s 52ms/step - loss: 71.1617 - predictions_loss: 71.1069 - reconstruction_loss: 0.0547\n"
     ]
    }
   ],
   "source": [
    "history = binomial.fit(dataset,             \n",
    "             epochs = 12,\n",
    "             steps_per_epoch = 8000,\n",
    "             use_multiprocessing=True)"
   ]
  },
  {
   "cell_type": "code",
   "execution_count": null,
   "metadata": {
    "scrolled": true
   },
   "outputs": [],
   "source": [
    "for n in dataset.take(1):\n",
    "    output = binomial(n[0]['inputs'])\n",
    "    print(output)\n",
    "    loss = last_time_step_loss(n[1]['predictions'], output['predictions'])\n",
    "    print(loss)"
   ]
  },
  {
   "cell_type": "code",
   "execution_count": 40,
   "metadata": {
    "scrolled": true
   },
   "outputs": [],
   "source": [
    "window = 5\n",
    "row = 2\n",
    "\n",
    "array = np.array(())\n",
    "\n",
    "for day in range(3,cols - window):\n",
    "    location = np.tile(c[row,:2].reshape((-1,1)), (1,5))\n",
    "    infected = c[row,day:window+day].reshape((1,-1))\n",
    "    pop_dens = np.tile(densities[row].reshape((-1,1)), (1,5))\n",
    "    deaths = d[row,day:window+day].reshape((1,-1))\n",
    "    days = np.arange(day, day+window).reshape((1,-1))\n",
    "    data_in = np.concatenate([location, pop_dens, infected, deaths, days],axis=0).T\n",
    "    prediction = binomial.predict(data_in.reshape((1,5,6)).astype(np.float32))\n",
    "    array = np.append(array, prediction[0][0,4,0])\n",
    "    "
   ]
  },
  {
   "cell_type": "code",
   "execution_count": 41,
   "metadata": {},
   "outputs": [
    {
     "name": "stdout",
     "output_type": "stream",
     "text": [
      "56\n"
     ]
    },
    {
     "data": {
      "text/plain": [
       "<matplotlib.axes._subplots.AxesSubplot at 0x7f8f824d84d0>"
      ]
     },
     "execution_count": 41,
     "metadata": {},
     "output_type": "execute_result"
    },
    {
     "data": {
      "image/png": "[encoded data removed]",
      "text/plain": [
       "<Figure size 432x288 with 1 Axes>"
      ]
     },
     "metadata": {
      "needs_background": "light"
     },
     "output_type": "display_data"
    }
   ],
   "source": [
    "import seaborn as sns\n",
    "print(len(array))\n",
    "sns.scatterplot(x=np.arange(2,64),y=np.cumsum(c[row,2:]))\n",
    "sns.scatterplot(x=np.arange(64-56,64),y=np.cumsum(array))"
   ]
  },
  {
   "cell_type": "code",
   "execution_count": null,
   "metadata": {},
   "outputs": [],
   "source": []
  }
 ],
 "metadata": {
  "kernelspec": {
   "display_name": "Python 3",
   "language": "python",
   "name": "python3"
  },
  "language_info": {
   "codemirror_mode": {
    "name": "ipython",
    "version": 3
   },
   "file_extension": ".py",
   "mimetype": "text/x-python",
   "name": "python",
   "nbconvert_exporter": "python",
   "pygments_lexer": "ipython3",
   "version": "3.7.6"
  }
 },
 "nbformat": 4,
 "nbformat_minor": 4
}
